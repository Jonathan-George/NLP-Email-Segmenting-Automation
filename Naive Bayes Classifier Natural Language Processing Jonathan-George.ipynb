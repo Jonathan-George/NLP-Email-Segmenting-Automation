{
 "cells": [
  {
   "cell_type": "code",
   "execution_count": 1,
   "id": "76468737",
   "metadata": {},
   "outputs": [],
   "source": [
    "from sklearn.datasets import fetch_20newsgroups\n",
    "from sklearn.naive_bayes import MultinomialNB\n",
    "from sklearn.feature_extraction.text import CountVectorizer\n",
    "\n",
    "emails = fetch_20newsgroups()"
   ]
  },
  {
   "cell_type": "code",
   "execution_count": 2,
   "id": "da5912a3",
   "metadata": {},
   "outputs": [
    {
     "name": "stdout",
     "output_type": "stream",
     "text": [
      "['alt.atheism', 'comp.graphics', 'comp.os.ms-windows.misc', 'comp.sys.ibm.pc.hardware', 'comp.sys.mac.hardware', 'comp.windows.x', 'misc.forsale', 'rec.autos', 'rec.motorcycles', 'rec.sport.baseball', 'rec.sport.hockey', 'sci.crypt', 'sci.electronics', 'sci.med', 'sci.space', 'soc.religion.christian', 'talk.politics.guns', 'talk.politics.mideast', 'talk.politics.misc', 'talk.religion.misc']\n"
     ]
    }
   ],
   "source": [
    "# Print the target names (categories)\n",
    "print(emails.target_names)"
   ]
  },
  {
   "cell_type": "code",
   "execution_count": 3,
   "id": "d59dfd69",
   "metadata": {},
   "outputs": [
    {
     "name": "stdout",
     "output_type": "stream",
     "text": [
      "['rec.sport.baseball', 'rec.sport.hockey']\n"
     ]
    }
   ],
   "source": [
    "# Select the categories of interest\n",
    "categories = ['rec.sport.baseball', 'rec.sport.hockey']\n",
    "\n",
    "# Load the dataset with the specified categories\n",
    "emails = fetch_20newsgroups(categories=categories)\n",
    "\n",
    "# Print the target names to verify the selection\n",
    "print(emails.target_names)"
   ]
  },
  {
   "cell_type": "code",
   "execution_count": 4,
   "id": "4fcdfcf8",
   "metadata": {},
   "outputs": [
    {
     "name": "stdout",
     "output_type": "stream",
     "text": [
      "From: mmb@lamar.ColoState.EDU (Michael Burger)\n",
      "Subject: More TV Info\n",
      "Distribution: na\n",
      "Nntp-Posting-Host: lamar.acns.colostate.edu\n",
      "Organization: Colorado State University, Fort Collins, CO  80523\n",
      "Lines: 36\n",
      "\n",
      "United States Coverage:\n",
      "Sunday April 18\n",
      "  N.J./N.Y.I. at Pittsburgh - 1:00 EDT to Eastern Time Zone\n",
      "  ABC - Gary Thorne and Bill Clement\n",
      "\n",
      "  St. Louis at Chicago - 12:00 CDT and 11:00 MDT - to Central/Mountain Zones\n",
      "  ABC - Mike Emerick and Jim Schoenfeld\n",
      "\n",
      "  Los Angeles at Calgary - 12:00 PDT and 11:00 ADT - to Pacific/Alaskan Zones\n",
      "  ABC - Al Michaels and John Davidson\n",
      "\n",
      "Tuesday, April 20\n",
      "  N.J./N.Y.I. at Pittsburgh - 7:30 EDT Nationwide\n",
      "  ESPN - Gary Thorne and Bill Clement\n",
      "\n",
      "Thursday, April 22 and Saturday April 24\n",
      "  To Be Announced - 7:30 EDT Nationwide\n",
      "  ESPN - To Be Announced\n",
      "\n",
      "\n",
      "Canadian Coverage:\n",
      "\n",
      "Sunday, April 18\n",
      "  Buffalo at Boston - 7:30 EDT Nationwide\n",
      "  TSN - ???\n",
      "\n",
      "Tuesday, April 20\n",
      "  N.J.D./N.Y. at Pittsburgh - 7:30 EDT Nationwide\n",
      "  TSN - ???\n",
      "\n",
      "Wednesday, April 21\n",
      "  St. Louis at Chicago - 8:30 EDT Nationwide\n",
      "  TSN - ???\n",
      "\n",
      "\n",
      "\n",
      "\n"
     ]
    }
   ],
   "source": [
    "# Print the email at index 5\n",
    "print(emails.data[5])"
   ]
  },
  {
   "cell_type": "code",
   "execution_count": 5,
   "id": "73840f54",
   "metadata": {},
   "outputs": [
    {
     "name": "stdout",
     "output_type": "stream",
     "text": [
      "Email at index 5:\n",
      "From: mmb@lamar.ColoState.EDU (Michael Burger)\n",
      "Subject: More TV Info\n",
      "Distribution: na\n",
      "Nntp-Posting-Host: lamar.acns.colostate.edu\n",
      "Organization: Colorado State University, Fort Collins, CO  80523\n",
      "Lines: 36\n",
      "\n",
      "United States Coverage:\n",
      "Sunday April 18\n",
      "  N.J./N.Y.I. at Pittsburgh - 1:00 EDT to Eastern Time Zone\n",
      "  ABC - Gary Thorne and Bill Clement\n",
      "\n",
      "  St. Louis at Chicago - 12:00 CDT and 11:00 MDT - to Central/Mountain Zones\n",
      "  ABC - Mike Emerick and Jim Schoenfeld\n",
      "\n",
      "  Los Angeles at Calgary - 12:00 PDT and 11:00 ADT - to Pacific/Alaskan Zones\n",
      "  ABC - Al Michaels and John Davidson\n",
      "\n",
      "Tuesday, April 20\n",
      "  N.J./N.Y.I. at Pittsburgh - 7:30 EDT Nationwide\n",
      "  ESPN - Gary Thorne and Bill Clement\n",
      "\n",
      "Thursday, April 22 and Saturday April 24\n",
      "  To Be Announced - 7:30 EDT Nationwide\n",
      "  ESPN - To Be Announced\n",
      "\n",
      "\n",
      "Canadian Coverage:\n",
      "\n",
      "Sunday, April 18\n",
      "  Buffalo at Boston - 7:30 EDT Nationwide\n",
      "  TSN - ???\n",
      "\n",
      "Tuesday, April 20\n",
      "  N.J.D./N.Y. at Pittsburgh - 7:30 EDT Nationwide\n",
      "  TSN - ???\n",
      "\n",
      "Wednesday, April 21\n",
      "  St. Louis at Chicago - 8:30 EDT Nationwide\n",
      "  TSN - ???\n",
      "\n",
      "\n",
      "\n",
      "\n",
      "\n",
      "Label of the email at index 5: 1\n",
      "This is a rec.sport.hockey email.\n"
     ]
    }
   ],
   "source": [
    "# Print the email at index 5\n",
    "print(\"Email at index 5:\")\n",
    "print(emails.data[5])\n",
    "\n",
    "# Print the label of the email at index 5\n",
    "label_index = emails.target[5]\n",
    "label_name = emails.target_names[label_index]\n",
    "\n",
    "print(\"\\nLabel of the email at index 5:\", label_index)\n",
    "print(\"This is a\", label_name, \"email.\")"
   ]
  },
  {
   "cell_type": "code",
   "execution_count": 6,
   "id": "18dafff5",
   "metadata": {},
   "outputs": [
    {
     "name": "stdout",
     "output_type": "stream",
     "text": [
      "First training email:\n",
      "From: kkeller@mail.sas.upenn.edu (Keith Keller)\n",
      "Subject: Playoff pool update\n",
      "Organization: University of Pennsylvania, School of Arts and Sciences\n",
      "Lines: 44\n",
      "Nntp-Posting-Host: mail.sas.upenn.edu\n",
      "\n",
      "Well, I have compiled some statistics on the entries of my pool.  There\n",
      "are unofficially 52 entrants.  Here are the stats on what teams were\n",
      "picked to win it all:\n",
      "\n",
      "Pittsburgh:\t34 (1 sweep, 14 in 5, 15 in 6, 4 in 7)\n",
      "Boston:\t\t6  (1 in 5, 5 in 6)\n",
      "Detroit:\t4  (3 in 6, 1 in 7)\n",
      "Montreal:\t2  (1 in 5, 1 in 7)\n",
      "Toronto:\t2  (1 in 6, 1 in 7)\n",
      "   (no, this wasn't Roger)\n",
      "Calgary:\t1  (in 6)\n",
      "Quebec:\t\t1  (in 6)\n",
      "Vancouver:\t1  (in 7)\n",
      "Washington:\t1  (in 6)\n",
      "\n",
      "Why the hell hasn't anybody picked Chicago???  NOBODY!  Quebec got a pick,\n",
      "Detroit got 4, but absolutely no Chicago!  How odd.\n",
      "\n",
      "Here are the \"losers\":\n",
      "\n",
      "Detroit:\t20\n",
      "Chicago:\t16\t(so there they are!)\n",
      "Pittsburgh:\t6\n",
      "Vancouver:\t4\n",
      "Boston:\t\t2\n",
      "Calgary:\t2\n",
      "Los Angeles:\t1\twhat?!?\n",
      "Toronto:\t1\n",
      "\n",
      "LOS ANGELES???????  Are you out of your mind?!?!?  Good luck to you,\n",
      "you'll need it!\n",
      "\n",
      "So Pittsburgh is the consensus winner of the Stanley Cup.  They'll\n",
      "statistically beat Detroit in 6 games.  HAHA  that's happening!  NOT!  As\n",
      "I said, every one of my picks will come true, and I picked Chicago to lose\n",
      "to Pittsburgh in the finals, so tough luck to all you who picket Detroit.  \n",
      "Well, tough luck to all of ya!  I am a genius!!!  ;-)\n",
      "\n",
      "--\n",
      "    Keith Keller\t\t\t\tLET'S GO RANGERS!!!!!\n",
      "\t\t\t\t\t\tLET'S GO QUAKERS!!!!!\n",
      "\tkkeller@mail.sas.upenn.edu\t\tIVY LEAGUE CHAMPS!!!!\n",
      "\n",
      "\t   \"A cow is not a vegetarian dish.\"  -- Keith Keller, 1993\n",
      "\n",
      "\n",
      "Label of the first training email: 1\n",
      "This is a rec.sport.hockey email.\n"
     ]
    }
   ],
   "source": [
    "# Load the training dataset with the specified categories\n",
    "train_emails = fetch_20newsgroups(subset='train', categories=categories, shuffle=True, random_state=108)\n",
    "\n",
    "# Verify the data\n",
    "print(\"First training email:\")\n",
    "print(train_emails.data[0])\n",
    "print(\"\\nLabel of the first training email:\", train_emails.target[0])\n",
    "print(\"This is a\", train_emails.target_names[train_emails.target[0]], \"email.\")"
   ]
  },
  {
   "cell_type": "code",
   "execution_count": 7,
   "id": "fb525d72",
   "metadata": {},
   "outputs": [
    {
     "name": "stdout",
     "output_type": "stream",
     "text": [
      "First test email:\n",
      "From: neath@brazil.psych.purdue.edu (Ian Neath)\n",
      "Subject: Re: Final Regular Season Individual Goalie Stats\n",
      "Organization: Purdue University\n",
      "Lines: 6\n",
      "\n",
      "What about including points?  Probably no goals (at least against\n",
      "opponents) but there have been several assists given.\n",
      "\n",
      "--\n",
      "      Ian Neath        | There are four kinds of people in this world:\n",
      "neath@psych.purdue.edu | cretins, fools, morons and lunatics - U. Eco\n",
      "\n",
      "\n",
      "Label of the first test email: 1\n",
      "This is a rec.sport.hockey email.\n"
     ]
    }
   ],
   "source": [
    "# Load the test dataset with the specified categories\n",
    "test_emails = fetch_20newsgroups(subset='test', categories=categories, shuffle=True, random_state=108)\n",
    "\n",
    "# Verify the data\n",
    "print(\"First test email:\")\n",
    "print(test_emails.data[0])\n",
    "print(\"\\nLabel of the first test email:\", test_emails.target[0])\n",
    "print(\"This is a\", test_emails.target_names[test_emails.target[0]], \"email.\")"
   ]
  },
  {
   "cell_type": "code",
   "execution_count": 8,
   "id": "2f48046e",
   "metadata": {},
   "outputs": [
    {
     "name": "stdout",
     "output_type": "stream",
     "text": [
      "CountVectorizer()\n"
     ]
    }
   ],
   "source": [
    "from sklearn.feature_extraction.text import CountVectorizer\n",
    "\n",
    "# Create a CountVectorizer object\n",
    "counter = CountVectorizer()\n",
    "\n",
    "# Verify the creation\n",
    "print(counter)\n"
   ]
  },
  {
   "cell_type": "code",
   "execution_count": 9,
   "id": "ac5dedc3",
   "metadata": {},
   "outputs": [
    {
     "name": "stdout",
     "output_type": "stream",
     "text": [
      "Vocabulary size: 23714\n"
     ]
    }
   ],
   "source": [
    "# Fit the CountVectorizer object to the combined data\n",
    "counter.fit(train_emails.data + test_emails.data)\n",
    "\n",
    "# Verify the fitting\n",
    "print(\"Vocabulary size:\", len(counter.vocabulary_))"
   ]
  },
  {
   "cell_type": "code",
   "execution_count": 10,
   "id": "f84cd767",
   "metadata": {},
   "outputs": [
    {
     "name": "stdout",
     "output_type": "stream",
     "text": [
      "Shape of train_counts: (1197, 23714)\n"
     ]
    }
   ],
   "source": [
    "# Transform the training data to word counts\n",
    "train_counts = counter.transform(train_emails.data)\n",
    "\n",
    "# Verify the transformation\n",
    "print(\"Shape of train_counts:\", train_counts.shape)"
   ]
  },
  {
   "cell_type": "code",
   "execution_count": 11,
   "id": "514a3d20",
   "metadata": {},
   "outputs": [
    {
     "name": "stdout",
     "output_type": "stream",
     "text": [
      "Shape of test_counts: (796, 23714)\n"
     ]
    }
   ],
   "source": [
    "# Transform the test data to word counts\n",
    "test_counts = counter.transform(test_emails.data)\n",
    "\n",
    "# Verify the transformation\n",
    "print(\"Shape of test_counts:\", test_counts.shape)"
   ]
  },
  {
   "cell_type": "code",
   "execution_count": 12,
   "id": "74fe2f14",
   "metadata": {},
   "outputs": [
    {
     "name": "stdout",
     "output_type": "stream",
     "text": [
      "MultinomialNB()\n"
     ]
    }
   ],
   "source": [
    "# Create a Multinomial Naive Bayes classifier object\n",
    "classifier = MultinomialNB()\n",
    "\n",
    "# Verify the creation\n",
    "print(classifier)"
   ]
  },
  {
   "cell_type": "code",
   "execution_count": 13,
   "id": "b223cf1b",
   "metadata": {},
   "outputs": [
    {
     "data": {
      "text/html": [
       "<style>#sk-container-id-1 {color: black;}#sk-container-id-1 pre{padding: 0;}#sk-container-id-1 div.sk-toggleable {background-color: white;}#sk-container-id-1 label.sk-toggleable__label {cursor: pointer;display: block;width: 100%;margin-bottom: 0;padding: 0.3em;box-sizing: border-box;text-align: center;}#sk-container-id-1 label.sk-toggleable__label-arrow:before {content: \"▸\";float: left;margin-right: 0.25em;color: #696969;}#sk-container-id-1 label.sk-toggleable__label-arrow:hover:before {color: black;}#sk-container-id-1 div.sk-estimator:hover label.sk-toggleable__label-arrow:before {color: black;}#sk-container-id-1 div.sk-toggleable__content {max-height: 0;max-width: 0;overflow: hidden;text-align: left;background-color: #f0f8ff;}#sk-container-id-1 div.sk-toggleable__content pre {margin: 0.2em;color: black;border-radius: 0.25em;background-color: #f0f8ff;}#sk-container-id-1 input.sk-toggleable__control:checked~div.sk-toggleable__content {max-height: 200px;max-width: 100%;overflow: auto;}#sk-container-id-1 input.sk-toggleable__control:checked~label.sk-toggleable__label-arrow:before {content: \"▾\";}#sk-container-id-1 div.sk-estimator input.sk-toggleable__control:checked~label.sk-toggleable__label {background-color: #d4ebff;}#sk-container-id-1 div.sk-label input.sk-toggleable__control:checked~label.sk-toggleable__label {background-color: #d4ebff;}#sk-container-id-1 input.sk-hidden--visually {border: 0;clip: rect(1px 1px 1px 1px);clip: rect(1px, 1px, 1px, 1px);height: 1px;margin: -1px;overflow: hidden;padding: 0;position: absolute;width: 1px;}#sk-container-id-1 div.sk-estimator {font-family: monospace;background-color: #f0f8ff;border: 1px dotted black;border-radius: 0.25em;box-sizing: border-box;margin-bottom: 0.5em;}#sk-container-id-1 div.sk-estimator:hover {background-color: #d4ebff;}#sk-container-id-1 div.sk-parallel-item::after {content: \"\";width: 100%;border-bottom: 1px solid gray;flex-grow: 1;}#sk-container-id-1 div.sk-label:hover label.sk-toggleable__label {background-color: #d4ebff;}#sk-container-id-1 div.sk-serial::before {content: \"\";position: absolute;border-left: 1px solid gray;box-sizing: border-box;top: 0;bottom: 0;left: 50%;z-index: 0;}#sk-container-id-1 div.sk-serial {display: flex;flex-direction: column;align-items: center;background-color: white;padding-right: 0.2em;padding-left: 0.2em;position: relative;}#sk-container-id-1 div.sk-item {position: relative;z-index: 1;}#sk-container-id-1 div.sk-parallel {display: flex;align-items: stretch;justify-content: center;background-color: white;position: relative;}#sk-container-id-1 div.sk-item::before, #sk-container-id-1 div.sk-parallel-item::before {content: \"\";position: absolute;border-left: 1px solid gray;box-sizing: border-box;top: 0;bottom: 0;left: 50%;z-index: -1;}#sk-container-id-1 div.sk-parallel-item {display: flex;flex-direction: column;z-index: 1;position: relative;background-color: white;}#sk-container-id-1 div.sk-parallel-item:first-child::after {align-self: flex-end;width: 50%;}#sk-container-id-1 div.sk-parallel-item:last-child::after {align-self: flex-start;width: 50%;}#sk-container-id-1 div.sk-parallel-item:only-child::after {width: 0;}#sk-container-id-1 div.sk-dashed-wrapped {border: 1px dashed gray;margin: 0 0.4em 0.5em 0.4em;box-sizing: border-box;padding-bottom: 0.4em;background-color: white;}#sk-container-id-1 div.sk-label label {font-family: monospace;font-weight: bold;display: inline-block;line-height: 1.2em;}#sk-container-id-1 div.sk-label-container {text-align: center;}#sk-container-id-1 div.sk-container {/* jupyter's `normalize.less` sets `[hidden] { display: none; }` but bootstrap.min.css set `[hidden] { display: none !important; }` so we also need the `!important` here to be able to override the default hidden behavior on the sphinx rendered scikit-learn.org. See: https://github.com/scikit-learn/scikit-learn/issues/21755 */display: inline-block !important;position: relative;}#sk-container-id-1 div.sk-text-repr-fallback {display: none;}</style><div id=\"sk-container-id-1\" class=\"sk-top-container\"><div class=\"sk-text-repr-fallback\"><pre>MultinomialNB()</pre><b>In a Jupyter environment, please rerun this cell to show the HTML representation or trust the notebook. <br />On GitHub, the HTML representation is unable to render, please try loading this page with nbviewer.org.</b></div><div class=\"sk-container\" hidden><div class=\"sk-item\"><div class=\"sk-estimator sk-toggleable\"><input class=\"sk-toggleable__control sk-hidden--visually\" id=\"sk-estimator-id-1\" type=\"checkbox\" checked><label for=\"sk-estimator-id-1\" class=\"sk-toggleable__label sk-toggleable__label-arrow\">MultinomialNB</label><div class=\"sk-toggleable__content\"><pre>MultinomialNB()</pre></div></div></div></div></div>"
      ],
      "text/plain": [
       "MultinomialNB()"
      ]
     },
     "execution_count": 13,
     "metadata": {},
     "output_type": "execute_result"
    }
   ],
   "source": [
    "# Train the classifier\n",
    "classifier.fit(train_counts, train_emails.target)"
   ]
  },
  {
   "cell_type": "code",
   "execution_count": 14,
   "id": "2cca24c5",
   "metadata": {},
   "outputs": [
    {
     "name": "stdout",
     "output_type": "stream",
     "text": [
      "Accuracy of the classifier on the test data: 0.9723618090452262\n"
     ]
    }
   ],
   "source": [
    "# Test the classifier\n",
    "accuracy = classifier.score(test_counts, test_emails.target)\n",
    "\n",
    "# Print the accuracy\n",
    "print(\"Accuracy of the classifier on the test data:\", accuracy)\n"
   ]
  },
  {
   "cell_type": "code",
   "execution_count": 15,
   "id": "0a450b80",
   "metadata": {},
   "outputs": [
    {
     "name": "stdout",
     "output_type": "stream",
     "text": [
      "Accuracy of the classifier on the test data: 0.9974715549936789\n"
     ]
    }
   ],
   "source": [
    "# Change the categories to ['comp.sys.ibm.pc.hardware', 'rec.sport.hockey']\n",
    "categories = ['comp.sys.ibm.pc.hardware', 'rec.sport.hockey']\n",
    "\n",
    "# Load the training and test datasets with the specified categories\n",
    "train_emails = fetch_20newsgroups(subset='train', categories=categories, shuffle=True, random_state=108)\n",
    "test_emails = fetch_20newsgroups(subset='test', categories=categories, shuffle=True, random_state=108)\n",
    "\n",
    "# Create a CountVectorizer object\n",
    "counter = CountVectorizer()\n",
    "\n",
    "# Fit the CountVectorizer object to the combined data\n",
    "counter.fit(train_emails.data + test_emails.data)\n",
    "\n",
    "# Transform the training data to word counts\n",
    "train_counts = counter.transform(train_emails.data)\n",
    "\n",
    "# Transform the test data to word counts\n",
    "test_counts = counter.transform(test_emails.data)\n",
    "\n",
    "# Create a Multinomial Naive Bayes classifier object\n",
    "classifier = MultinomialNB()\n",
    "\n",
    "# Train the classifier\n",
    "classifier.fit(train_counts, train_emails.target)\n",
    "\n",
    "# Test the classifier\n",
    "accuracy = classifier.score(test_counts, test_emails.target)\n",
    "\n",
    "# Print the accuracy\n",
    "print(\"Accuracy of the classifier on the test data:\", accuracy)"
   ]
  },
  {
   "cell_type": "code",
   "execution_count": null,
   "id": "5c644341",
   "metadata": {},
   "outputs": [],
   "source": []
  }
 ],
 "metadata": {
  "kernelspec": {
   "display_name": "Python 3 (ipykernel)",
   "language": "python",
   "name": "python3"
  },
  "language_info": {
   "codemirror_mode": {
    "name": "ipython",
    "version": 3
   },
   "file_extension": ".py",
   "mimetype": "text/x-python",
   "name": "python",
   "nbconvert_exporter": "python",
   "pygments_lexer": "ipython3",
   "version": "3.11.5"
  }
 },
 "nbformat": 4,
 "nbformat_minor": 5
}
